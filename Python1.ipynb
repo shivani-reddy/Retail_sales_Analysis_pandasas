{
  "nbformat": 4,
  "nbformat_minor": 0,
  "metadata": {
    "colab": {
      "provenance": [],
      "authorship_tag": "ABX9TyPeoXF44zhwsiNhSSrXxlbq",
      "include_colab_link": true
    },
    "kernelspec": {
      "name": "python3",
      "display_name": "Python 3"
    },
    "language_info": {
      "name": "python"
    }
  },
  "cells": [
    {
      "cell_type": "markdown",
      "metadata": {
        "id": "view-in-github",
        "colab_type": "text"
      },
      "source": [
        "<a href=\"https://colab.research.google.com/github/shivani-reddy/Retail_sales_Analysis_pandasas/blob/main/Python1.ipynb\" target=\"_parent\"><img src=\"https://colab.research.google.com/assets/colab-badge.svg\" alt=\"Open In Colab\"/></a>"
      ]
    },
    {
      "cell_type": "code",
      "execution_count": null,
      "metadata": {
        "colab": {
          "base_uri": "https://localhost:8080/"
        },
        "id": "ZxYBSEifp5EA",
        "outputId": "71cb7f6f-6b63-4f94-abdb-c9f9fcbed389"
      },
      "outputs": [
        {
          "output_type": "stream",
          "name": "stdout",
          "text": [
            "hello data engineering\n",
            "7\n"
          ]
        }
      ],
      "source": [
        "greeting=\"hello data engineering\"\n",
        "print(greeting)\n",
        "int_var=7\n",
        "float_var=3.14\n",
        "str_var=\"Hello World\"\n",
        "bol_var=True\n",
        "\n",
        "print(int_var)"
      ]
    },
    {
      "cell_type": "markdown",
      "source": [
        "Data Types: integer, float ,string,boolean."
      ],
      "metadata": {
        "id": "sD3SSLEWsFVL"
      }
    },
    {
      "cell_type": "code",
      "source": [
        "Opertors=['Arithmetic','comparsion','logical']\n",
        "print(Opertors)\n",
        "num1=7\n",
        "num2=8\n",
        "sum=num1+num2\n",
        "var_equal=num1==num2\n",
        "print(var_equal)\n",
        "\n",
        "not_equal= num1!=num2\n",
        "print(not_equal)\n",
        "\n",
        "print('AND OR NOT')\n",
        "\n",
        "print(True or False)\n",
        "\n",
        "print(True and False)\n"
      ],
      "metadata": {
        "colab": {
          "base_uri": "https://localhost:8080/"
        },
        "id": "ZcsDaRjTqhm6",
        "outputId": "84285f96-b0d2-4a71-9690-f2c1d51580db"
      },
      "execution_count": null,
      "outputs": [
        {
          "output_type": "stream",
          "name": "stdout",
          "text": [
            "['Arithmetic', 'comparsion', 'logical']\n",
            "False\n",
            "True\n",
            "AND OR NOT\n",
            "True\n",
            "False\n"
          ]
        }
      ]
    },
    {
      "cell_type": "code",
      "source": [
        "print(\"Control Statements\")\n",
        "num1=1\n",
        "num2=2\n",
        "if num1>num2:\n",
        "  print(\"num1 is greater\")\n",
        "else:\n",
        "  print(\"num2 is greater\")\n",
        "\n",
        "for i in range(5):\n",
        "  print(i)\n",
        "\n",
        "i=7\n",
        "while i<10:\n",
        "  print(i)\n",
        "  i=i+1"
      ],
      "metadata": {
        "colab": {
          "base_uri": "https://localhost:8080/"
        },
        "id": "IazqzhCHQSi3",
        "outputId": "dcfb7cef-beab-4707-a4ca-e451ea03613e"
      },
      "execution_count": null,
      "outputs": [
        {
          "output_type": "stream",
          "name": "stdout",
          "text": [
            "Control Statements\n",
            "num2 is greater\n",
            "0\n",
            "1\n",
            "2\n",
            "3\n",
            "4\n",
            "7\n",
            "8\n",
            "9\n"
          ]
        }
      ]
    },
    {
      "cell_type": "code",
      "source": [
        "print(\"Functions\")\n",
        "\n",
        "\n"
      ],
      "metadata": {
        "colab": {
          "base_uri": "https://localhost:8080/"
        },
        "collapsed": true,
        "id": "WQEWd7raRqSb",
        "outputId": "dc07a085-5b15-4861-97d3-18618ce3f0f2"
      },
      "execution_count": null,
      "outputs": [
        {
          "output_type": "stream",
          "name": "stdout",
          "text": [
            "Functions\n"
          ]
        }
      ]
    },
    {
      "cell_type": "code",
      "source": [
        "def greet():\n",
        "  print(\"Hello world\")\n",
        "\n"
      ],
      "metadata": {
        "id": "iXfVRZr-SB7-"
      },
      "execution_count": null,
      "outputs": []
    },
    {
      "cell_type": "markdown",
      "source": [
        "-Resuable\n",
        "_Modularize\n",
        "-Helps in managing the large code\n"
      ],
      "metadata": {
        "id": "t-8FvKQwRzRB"
      }
    },
    {
      "cell_type": "code",
      "source": [
        "def greet(name):\n",
        "  print(\"hello\" + name)"
      ],
      "metadata": {
        "id": "VOd9_iAHSc67"
      },
      "execution_count": null,
      "outputs": []
    },
    {
      "cell_type": "code",
      "source": [
        "greet(\"deepak\")"
      ],
      "metadata": {
        "colab": {
          "base_uri": "https://localhost:8080/"
        },
        "id": "iyye6BElSmnY",
        "outputId": "3df99f01-7ed3-4e73-fd16-67893770f316"
      },
      "execution_count": null,
      "outputs": [
        {
          "output_type": "stream",
          "name": "stdout",
          "text": [
            "hellodeepak\n"
          ]
        }
      ]
    },
    {
      "cell_type": "code",
      "source": [
        "def add_numbers(num1,num2):\n",
        "  return num1+num2"
      ],
      "metadata": {
        "id": "8artKggNS7s3"
      },
      "execution_count": null,
      "outputs": []
    },
    {
      "cell_type": "code",
      "source": [
        "sum=add_numbers(10,12)\n",
        "print(sum)"
      ],
      "metadata": {
        "colab": {
          "base_uri": "https://localhost:8080/"
        },
        "id": "ptFlWNN3TNpa",
        "outputId": "0511cf52-4121-4e75-b04b-340819dfd25b"
      },
      "execution_count": null,
      "outputs": [
        {
          "output_type": "stream",
          "name": "stdout",
          "text": [
            "22\n"
          ]
        }
      ]
    },
    {
      "cell_type": "code",
      "source": [
        "print(\"Modules\")\n"
      ],
      "metadata": {
        "id": "exEl17sjTV32"
      },
      "execution_count": null,
      "outputs": []
    },
    {
      "cell_type": "markdown",
      "source": [
        "-python files\n",
        "-define functions,classes,variables\n",
        "-import into your code to use\n"
      ],
      "metadata": {
        "id": "9BzHhBeITm0t"
      }
    },
    {
      "cell_type": "markdown",
      "source": [
        "# New Section"
      ],
      "metadata": {
        "id": "Gq-xRB9LVf2I"
      }
    }
  ]
}